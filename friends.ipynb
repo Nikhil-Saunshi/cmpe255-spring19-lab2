{
 "cells": [
  {
   "cell_type": "code",
   "execution_count": 7,
   "metadata": {},
   "outputs": [
    {
     "name": "stdout",
     "output_type": "stream",
     "text": [
      "mean=32.81818181818182\n",
      "median=25.0\n"
     ]
    }
   ],
   "source": [
    "import numpy\n",
    "def mean_num_friends(x):\n",
    "    return numpy.mean(x)\n",
    "\n",
    "def median_num_friends(x):\n",
    "    return numpy.median(x)\n",
    "\n",
    "num_friends=[100, 49, 41, 40, 25, 10, 5, 4, 7, 20, 60]\n",
    "print(\"mean={}\".format(mean_num_friends(num_friends)))\n",
    "print(\"median={}\".format(median_num_friends(num_friends)))"
   ]
  },
  {
   "cell_type": "code",
   "execution_count": null,
   "metadata": {},
   "outputs": [],
   "source": []
  }
 ],
 "metadata": {
  "kernelspec": {
   "display_name": "Python 3",
   "language": "python",
   "name": "python3"
  },
  "language_info": {
   "codemirror_mode": {
    "name": "ipython",
    "version": 3
   },
   "file_extension": ".py",
   "mimetype": "text/x-python",
   "name": "python",
   "nbconvert_exporter": "python",
   "pygments_lexer": "ipython3",
   "version": "3.6.5"
  }
 },
 "nbformat": 4,
 "nbformat_minor": 2
}
